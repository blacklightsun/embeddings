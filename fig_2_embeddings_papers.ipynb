{
 "cells": [
  {
   "cell_type": "markdown",
   "id": "9705ffc4",
   "metadata": {},
   "source": [
    "Analyzing papers about \"embeddings\" from CS Arxiv over the past 5 years to see if their occurrence has increased using [ArXiv API Wraper](https://pypi.org/project/arxiv/)"
   ]
  },
  {
   "cell_type": "code",
   "execution_count": null,
   "id": "ffdb427c",
   "metadata": {
    "scrolled": true
   },
   "outputs": [],
   "source": [
    "%matplotlib inline\n",
    "\n",
    "import requests\n",
    "import numpy as np\n",
    "import pylab\n",
    "import matplotlib.pyplot as plt\n",
    "import pandas as pd\n",
    "\n",
    "import tqdm\n",
    "\n",
    "from arxiv import SortCriterion , Search, SortOrder\n",
    "import typing\n",
    "from collections import defaultdict"
   ]
  },
  {
   "cell_type": "code",
   "execution_count": 3,
   "id": "e31b78d4",
   "metadata": {
    "scrolled": true
   },
   "outputs": [],
   "source": [
    "# Arxiv API Search\n",
    "embedding_search = Search(\n",
    "  query = \"embeddings\",\n",
    "  max_results = float('inf'), # limit of 300k results from the API total\n",
    ")"
   ]
  },
  {
   "cell_type": "code",
   "execution_count": null,
   "id": "53e6261f",
   "metadata": {
    "scrolled": true
   },
   "outputs": [],
   "source": [
    "# Preparing results for Pandas import\n",
    "embedding_dict = defaultdict(list, title=[],date=[],category=[])\n",
    "\n",
    "results = embedding_search.results()\n",
    "\n",
    "for result in tqdm.tqdm(results):\n",
    "  embedding_dict['title'].append(result.title)\n",
    "  embedding_dict['date'].append(result.published)\n",
    "  embedding_dict['category'].append(result.primary_category)\n"
   ]
  },
  {
   "cell_type": "code",
   "execution_count": 10,
   "id": "29d00179",
   "metadata": {
    "scrolled": true
   },
   "outputs": [],
   "source": [
    "# Get default dict into Pandas for graphing\n",
    "embedding_df = pd.DataFrame.from_dict(embedding_dict)"
   ]
  },
  {
   "cell_type": "code",
   "execution_count": null,
   "id": "732b7ca4",
   "metadata": {
    "scrolled": true
   },
   "outputs": [],
   "source": [
    "embedding_df.to_csv('embeddings.csv', index=False) "
   ]
  },
  {
   "cell_type": "code",
   "execution_count": 10,
   "id": "187a4ea2",
   "metadata": {
    "scrolled": true
   },
   "outputs": [],
   "source": [
    "embedding_df = pd.read_csv(\"embeddings.csv\")"
   ]
  },
  {
   "cell_type": "code",
   "execution_count": 11,
   "id": "d8e5185c",
   "metadata": {
    "scrolled": true
   },
   "outputs": [
    {
     "data": {
      "text/html": [
       "<div>\n",
       "<style scoped>\n",
       "    .dataframe tbody tr th:only-of-type {\n",
       "        vertical-align: middle;\n",
       "    }\n",
       "\n",
       "    .dataframe tbody tr th {\n",
       "        vertical-align: top;\n",
       "    }\n",
       "\n",
       "    .dataframe thead th {\n",
       "        text-align: right;\n",
       "    }\n",
       "</style>\n",
       "<table border=\"1\" class=\"dataframe\">\n",
       "  <thead>\n",
       "    <tr style=\"text-align: right;\">\n",
       "      <th></th>\n",
       "      <th>title</th>\n",
       "      <th>date</th>\n",
       "      <th>category</th>\n",
       "    </tr>\n",
       "  </thead>\n",
       "  <tbody>\n",
       "    <tr>\n",
       "      <th>0</th>\n",
       "      <td>Frustratingly Easy Meta-Embedding -- Computing...</td>\n",
       "      <td>2018-04-14 18:30:01+00:00</td>\n",
       "      <td>cs.CL</td>\n",
       "    </tr>\n",
       "    <tr>\n",
       "      <th>1</th>\n",
       "      <td>Learning Meta-Embeddings by Using Ensembles of...</td>\n",
       "      <td>2015-08-18 09:29:22+00:00</td>\n",
       "      <td>cs.CL</td>\n",
       "    </tr>\n",
       "    <tr>\n",
       "      <th>2</th>\n",
       "      <td>Discrete Word Embedding for Logical Natural La...</td>\n",
       "      <td>2020-08-26 16:15:18+00:00</td>\n",
       "      <td>cs.CL</td>\n",
       "    </tr>\n",
       "    <tr>\n",
       "      <th>3</th>\n",
       "      <td>Hash Embeddings for Efficient Word Representat...</td>\n",
       "      <td>2017-09-12 16:13:10+00:00</td>\n",
       "      <td>cs.CL</td>\n",
       "    </tr>\n",
       "    <tr>\n",
       "      <th>4</th>\n",
       "      <td>Gender Bias in Meta-Embeddings</td>\n",
       "      <td>2022-05-19 21:20:47+00:00</td>\n",
       "      <td>cs.CL</td>\n",
       "    </tr>\n",
       "    <tr>\n",
       "      <th>...</th>\n",
       "      <td>...</td>\n",
       "      <td>...</td>\n",
       "      <td>...</td>\n",
       "    </tr>\n",
       "    <tr>\n",
       "      <th>16195</th>\n",
       "      <td>ArchNet: Data Hiding Model in Distributed Mach...</td>\n",
       "      <td>2020-04-23 04:59:05+00:00</td>\n",
       "      <td>cs.LG</td>\n",
       "    </tr>\n",
       "    <tr>\n",
       "      <th>16196</th>\n",
       "      <td>On the Role of Visual Cues in Audiovisual Spee...</td>\n",
       "      <td>2020-04-25 01:00:03+00:00</td>\n",
       "      <td>cs.LG</td>\n",
       "    </tr>\n",
       "    <tr>\n",
       "      <th>16197</th>\n",
       "      <td>Multilayer Structures of Graphene and Pt Nanop...</td>\n",
       "      <td>2020-04-25 10:35:45+00:00</td>\n",
       "      <td>physics.app-ph</td>\n",
       "    </tr>\n",
       "    <tr>\n",
       "      <th>16198</th>\n",
       "      <td>Gravitational couplings in ${\\cal N}=2$ hetero...</td>\n",
       "      <td>2020-04-25 13:06:51+00:00</td>\n",
       "      <td>hep-th</td>\n",
       "    </tr>\n",
       "    <tr>\n",
       "      <th>16199</th>\n",
       "      <td>GLUECoS : An Evaluation Benchmark for Code-Swi...</td>\n",
       "      <td>2020-04-26 13:28:34+00:00</td>\n",
       "      <td>cs.CL</td>\n",
       "    </tr>\n",
       "  </tbody>\n",
       "</table>\n",
       "<p>16200 rows × 3 columns</p>\n",
       "</div>"
      ],
      "text/plain": [
       "                                                   title  \\\n",
       "0      Frustratingly Easy Meta-Embedding -- Computing...   \n",
       "1      Learning Meta-Embeddings by Using Ensembles of...   \n",
       "2      Discrete Word Embedding for Logical Natural La...   \n",
       "3      Hash Embeddings for Efficient Word Representat...   \n",
       "4                         Gender Bias in Meta-Embeddings   \n",
       "...                                                  ...   \n",
       "16195  ArchNet: Data Hiding Model in Distributed Mach...   \n",
       "16196  On the Role of Visual Cues in Audiovisual Spee...   \n",
       "16197  Multilayer Structures of Graphene and Pt Nanop...   \n",
       "16198  Gravitational couplings in ${\\cal N}=2$ hetero...   \n",
       "16199  GLUECoS : An Evaluation Benchmark for Code-Swi...   \n",
       "\n",
       "                            date        category  \n",
       "0      2018-04-14 18:30:01+00:00           cs.CL  \n",
       "1      2015-08-18 09:29:22+00:00           cs.CL  \n",
       "2      2020-08-26 16:15:18+00:00           cs.CL  \n",
       "3      2017-09-12 16:13:10+00:00           cs.CL  \n",
       "4      2022-05-19 21:20:47+00:00           cs.CL  \n",
       "...                          ...             ...  \n",
       "16195  2020-04-23 04:59:05+00:00           cs.LG  \n",
       "16196  2020-04-25 01:00:03+00:00           cs.LG  \n",
       "16197  2020-04-25 10:35:45+00:00  physics.app-ph  \n",
       "16198  2020-04-25 13:06:51+00:00          hep-th  \n",
       "16199  2020-04-26 13:28:34+00:00           cs.CL  \n",
       "\n",
       "[16200 rows x 3 columns]"
      ]
     },
     "execution_count": 11,
     "metadata": {},
     "output_type": "execute_result"
    }
   ],
   "source": [
    "embedding_df"
   ]
  },
  {
   "cell_type": "code",
   "execution_count": 13,
   "id": "8851ed79",
   "metadata": {
    "scrolled": true
   },
   "outputs": [
    {
     "data": {
      "text/html": [
       "<div>\n",
       "<style scoped>\n",
       "    .dataframe tbody tr th:only-of-type {\n",
       "        vertical-align: middle;\n",
       "    }\n",
       "\n",
       "    .dataframe tbody tr th {\n",
       "        vertical-align: top;\n",
       "    }\n",
       "\n",
       "    .dataframe thead th {\n",
       "        text-align: right;\n",
       "    }\n",
       "</style>\n",
       "<table border=\"1\" class=\"dataframe\">\n",
       "  <thead>\n",
       "    <tr style=\"text-align: right;\">\n",
       "      <th></th>\n",
       "      <th>title</th>\n",
       "      <th>date</th>\n",
       "      <th>category</th>\n",
       "      <th>created_month</th>\n",
       "    </tr>\n",
       "  </thead>\n",
       "  <tbody>\n",
       "    <tr>\n",
       "      <th>0</th>\n",
       "      <td>Frustratingly Easy Meta-Embedding -- Computing...</td>\n",
       "      <td>2018-04-14 18:30:01+00:00</td>\n",
       "      <td>cs.CL</td>\n",
       "      <td>2018-04</td>\n",
       "    </tr>\n",
       "    <tr>\n",
       "      <th>1</th>\n",
       "      <td>Learning Meta-Embeddings by Using Ensembles of...</td>\n",
       "      <td>2015-08-18 09:29:22+00:00</td>\n",
       "      <td>cs.CL</td>\n",
       "      <td>2015-08</td>\n",
       "    </tr>\n",
       "    <tr>\n",
       "      <th>2</th>\n",
       "      <td>Discrete Word Embedding for Logical Natural La...</td>\n",
       "      <td>2020-08-26 16:15:18+00:00</td>\n",
       "      <td>cs.CL</td>\n",
       "      <td>2020-08</td>\n",
       "    </tr>\n",
       "    <tr>\n",
       "      <th>3</th>\n",
       "      <td>Hash Embeddings for Efficient Word Representat...</td>\n",
       "      <td>2017-09-12 16:13:10+00:00</td>\n",
       "      <td>cs.CL</td>\n",
       "      <td>2017-09</td>\n",
       "    </tr>\n",
       "    <tr>\n",
       "      <th>4</th>\n",
       "      <td>Gender Bias in Meta-Embeddings</td>\n",
       "      <td>2022-05-19 21:20:47+00:00</td>\n",
       "      <td>cs.CL</td>\n",
       "      <td>2022-05</td>\n",
       "    </tr>\n",
       "    <tr>\n",
       "      <th>...</th>\n",
       "      <td>...</td>\n",
       "      <td>...</td>\n",
       "      <td>...</td>\n",
       "      <td>...</td>\n",
       "    </tr>\n",
       "    <tr>\n",
       "      <th>16193</th>\n",
       "      <td>A novel embedded min-max approach for feature ...</td>\n",
       "      <td>2020-04-21 09:40:38+00:00</td>\n",
       "      <td>cs.LG</td>\n",
       "      <td>2020-04</td>\n",
       "    </tr>\n",
       "    <tr>\n",
       "      <th>16194</th>\n",
       "      <td>TAEN: Temporal Aware Embedding Network for Few...</td>\n",
       "      <td>2020-04-21 16:32:10+00:00</td>\n",
       "      <td>cs.CV</td>\n",
       "      <td>2020-04</td>\n",
       "    </tr>\n",
       "    <tr>\n",
       "      <th>16195</th>\n",
       "      <td>ArchNet: Data Hiding Model in Distributed Mach...</td>\n",
       "      <td>2020-04-23 04:59:05+00:00</td>\n",
       "      <td>cs.LG</td>\n",
       "      <td>2020-04</td>\n",
       "    </tr>\n",
       "    <tr>\n",
       "      <th>16196</th>\n",
       "      <td>On the Role of Visual Cues in Audiovisual Spee...</td>\n",
       "      <td>2020-04-25 01:00:03+00:00</td>\n",
       "      <td>cs.LG</td>\n",
       "      <td>2020-04</td>\n",
       "    </tr>\n",
       "    <tr>\n",
       "      <th>16199</th>\n",
       "      <td>GLUECoS : An Evaluation Benchmark for Code-Swi...</td>\n",
       "      <td>2020-04-26 13:28:34+00:00</td>\n",
       "      <td>cs.CL</td>\n",
       "      <td>2020-04</td>\n",
       "    </tr>\n",
       "  </tbody>\n",
       "</table>\n",
       "<p>7499 rows × 4 columns</p>\n",
       "</div>"
      ],
      "text/plain": [
       "                                                   title  \\\n",
       "0      Frustratingly Easy Meta-Embedding -- Computing...   \n",
       "1      Learning Meta-Embeddings by Using Ensembles of...   \n",
       "2      Discrete Word Embedding for Logical Natural La...   \n",
       "3      Hash Embeddings for Efficient Word Representat...   \n",
       "4                         Gender Bias in Meta-Embeddings   \n",
       "...                                                  ...   \n",
       "16193  A novel embedded min-max approach for feature ...   \n",
       "16194  TAEN: Temporal Aware Embedding Network for Few...   \n",
       "16195  ArchNet: Data Hiding Model in Distributed Mach...   \n",
       "16196  On the Role of Visual Cues in Audiovisual Spee...   \n",
       "16199  GLUECoS : An Evaluation Benchmark for Code-Swi...   \n",
       "\n",
       "                            date category created_month  \n",
       "0      2018-04-14 18:30:01+00:00    cs.CL       2018-04  \n",
       "1      2015-08-18 09:29:22+00:00    cs.CL       2015-08  \n",
       "2      2020-08-26 16:15:18+00:00    cs.CL       2020-08  \n",
       "3      2017-09-12 16:13:10+00:00    cs.CL       2017-09  \n",
       "4      2022-05-19 21:20:47+00:00    cs.CL       2022-05  \n",
       "...                          ...      ...           ...  \n",
       "16193  2020-04-21 09:40:38+00:00    cs.LG       2020-04  \n",
       "16194  2020-04-21 16:32:10+00:00    cs.CV       2020-04  \n",
       "16195  2020-04-23 04:59:05+00:00    cs.LG       2020-04  \n",
       "16196  2020-04-25 01:00:03+00:00    cs.LG       2020-04  \n",
       "16199  2020-04-26 13:28:34+00:00    cs.CL       2020-04  \n",
       "\n",
       "[7499 rows x 4 columns]"
      ]
     },
     "execution_count": 13,
     "metadata": {},
     "output_type": "execute_result"
    }
   ],
   "source": [
    "# Only CS papers (maybe filter further to IR?)\n",
    "embedding_df = embedding_df.loc[embedding_df[\"category\"].str.startswith('cs')]\n",
    "# Compress to months\n",
    "embedding_df['created_month'] = pd.to_datetime(embedding_df['date']).dt.strftime('%Y-%m')\n",
    "embedding_df"
   ]
  },
  {
   "cell_type": "code",
   "execution_count": 35,
   "id": "cf34c817",
   "metadata": {
    "scrolled": true
   },
   "outputs": [
    {
     "data": {
      "image/png": "[encoded data removed]",
      "text/plain": [
       "<Figure size 640x480 with 1 Axes>"
      ]
     },
     "metadata": {},
     "output_type": "display_data"
    }
   ],
   "source": [
    "import matplotlib.dates as mdates\n",
    "plt.style.use('bmh')\n",
    "\n",
    "histo = embedding_df.groupby('created_month').size().reset_index()\n",
    "histo_filtered = histo\n",
    "histo_filtered.columns = ['created_month','published_articles']\n",
    "\n",
    "# Average Smoothing\n",
    "window = 12\n",
    "average_y = []\n",
    "for ind in range(len(histo['published_articles']) - window + 1):\n",
    "    average_y.append(np.mean(histo['published_articles'][ind:ind+window]))\n",
    "\n",
    "for ind in range(window - 1):\n",
    "    average_y.insert(0, np.nan)\n",
    "\n",
    "histo_filtered['average_articles'] = average_y\n",
    "histo_filtered['created_month'] = pd.to_datetime(histo_filtered['created_month'])\n",
    "histo_smoothed = histo_filtered[['created_month','average_articles']]\n",
    "histo_smoothed.head(50)\n",
    "\n",
    "\n",
    "fig,ax = plt.subplots()\n",
    "ax.set_facecolor('white')\n",
    "histo_smoothed.plot(x=\"created_month\",x_compat=True,ax=ax);\n",
    "\n",
    "\n",
    "plt.title(\"'Embeddings' CS Papers by Month on ArXiv\")\n",
    "plt.ylabel(\"Papers submitted by date\",labelpad=10);\n",
    "plt.xlabel(\"Year\",labelpad=10);\n",
    "\n",
    "ax.get_legend().remove()\n",
    "\n",
    "plt.show()"
   ]
  }
 ],
 "metadata": {
  "kernelspec": {
   "display_name": "Python 3 (ipykernel)",
   "language": "python",
   "name": "python3"
  },
  "language_info": {
   "codemirror_mode": {
    "name": "ipython",
    "version": 3
   },
   "file_extension": ".py",
   "mimetype": "text/x-python",
   "name": "python",
   "nbconvert_exporter": "python",
   "pygments_lexer": "ipython3",
   "version": "3.10.9"
  },
  "vscode": {
   "interpreter": {
    "hash": "aee8b7b246df8f9039afb4144a1f6fd8d2ca17a180786b69acc140d282b71a49"
   }
  }
 },
 "nbformat": 4,
 "nbformat_minor": 5
}
